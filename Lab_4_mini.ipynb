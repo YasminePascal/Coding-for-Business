{
 "cells": [
  {
   "cell_type": "markdown",
   "metadata": {
    "slideshow": {
     "slide_type": "slide"
    }
   },
   "source": [
    "# Lab 4: Combining Python and SQL\n",
    "In this lab you'll write Python code that queries a database and prints nicely formatted results.\n",
    "\n",
    "Remember that it is always best to join on IDs, if possible, not words.\n"
   ]
  },
  {
   "cell_type": "markdown",
   "metadata": {
    "slideshow": {
     "slide_type": "slide"
    }
   },
   "source": [
    "## 0.  Join an *existing* group on Canvas.\n",
    "Go to the People tab and enter *Lab 4* in the search box.  Find an empty group--your other group members should sign up for that group.  Do NOT create your own group."
   ]
  },
  {
   "cell_type": "markdown",
   "metadata": {
    "jp-MarkdownHeadingCollapsed": true,
    "tags": []
   },
   "source": [
    "## About the data\n",
    "\n",
    "You're given a database, *lab4.db*, with two tables.  \n",
    "* **usnews** College and university ranking data for 2018 by US News and World Report. This dataset comes from [Kaggle](https://www.kaggle.com/theriley106/university-statistics).\n",
    "* **ipeds_2018** Facts about colleges and universities as reported by [IPEDS](https://nces.ed.gov/ipeds/datacenter/DataFiles.aspx?goToReportId=7), the Integrated Postsecondary Education Data System for 2018 in their Institutional Characteristics survey."
   ]
  },
  {
   "cell_type": "markdown",
   "metadata": {},
   "source": [
    "## 1. Write a Summary Program\n",
    "Write a program that can print a summary of an institution.\n",
    "\n",
    "Your Python code should do the following _in a loop_:\n",
    "1. Prompt the user to enter the name of a school, or \"quit\" to stop.\n",
    "1. Run a database query that joins both tables to retrieve these facts about the school the user entered:\n",
    "  * **from usnews data** displayName, overallRank, enrollment, businessRepScore (OK if None), engineeringRepScore (OK if None)\n",
    "  * **from ipeds_2018 data** city, stabbr, chfnm, chftitle, gentele, webaddr    \n",
    "  You need to figure out what column values the tables have in common to be able to do this.\n",
    "3. Print a nicely formatted summary of the school containing all the facts you just retrieved.  See below for an example. \n",
    "4. **Add the code for this step only after you've finished the previous ones.** If there are no schools in your results, print a message saying \"Cannot find a school with that name.\"  This is worth only one point, so if you can't get it, it's not a huge deal.  Hint:  Consider your existing code.  Create a variable that you initialize outside your loop to print your results.  Change that variable inside the loop somehow.  If *after the loop is finished* the value of the variable hasn't changed, it means that there were no rows to iterate through to print.\n",
    "\n",
    "How to format the output is up to you, except you must not cram it all onto a single line. Use multiple lines (and multiple print statements) and try to make it look nice. Here's an example:\n",
    "\n",
    "```\n",
    "Enter a school name:  Boston\n",
    "\n",
    "Boston College                             Rank:   32\n",
    "  www.bc.edu                               Chestnut Hill, MA\n",
    "  Enrollment:   9309                       6175528000\n",
    "  President: William P. Leahy, S.J.\n",
    "  Reputation Scores   Engineering: N/A  Business: 3.6\n",
    "\n",
    "Boston University                          Rank:   37\n",
    "  www.bu.edu                               Boston, MA\n",
    "  Enrollment:  17944                       6173532000\n",
    "  President: Robert  A. Brown\n",
    "  Reputation Scores   Engineering: 3.1  Business: 3.4\n",
    "\n",
    "University of Massachusetts--Boston        Rank:  202\n",
    "  www.umb.edu                              Boston, MA\n",
    "  Enrollment:  12847                       6172875000\n",
    "  Interim Chancellor: Katherine Newman\n",
    "  Reputation Scores   Engineering: N/A  Business: 2.6\n",
    "Enter a school name:  quit\n",
    "```\n",
    "\n",
    "\n",
    "Remember this formatting trick:  \n",
    "* In an f-string you can print the value of a variable as {my_var:10} to indicate that you want to print the variable value and as many blank spaces as you need to take exactly 10 spaces.\n"
   ]
  },
  {
   "cell_type": "markdown",
   "metadata": {},
   "source": [
    "## 2.  Submit File\n",
    "One person from the group should submit to Canvas this file (_Lab_4.ipynb_).  For this lab having only one person submit is fine."
   ]
  },
  {
   "cell_type": "code",
   "execution_count": 29,
   "metadata": {},
   "outputs": [
    {
     "name": "stdout",
     "output_type": "stream",
     "text": [
      "blue       blue\n"
     ]
    }
   ],
   "source": [
    "y= \"blue\"\n",
    "print(f'{y:10} {y}')"
   ]
  },
  {
   "cell_type": "code",
   "execution_count": 2,
   "metadata": {},
   "outputs": [],
   "source": [
    "get_ipython().ast_node_interactivity = 'all'\n",
    "import sqlite3"
   ]
  },
  {
   "cell_type": "code",
   "execution_count": 21,
   "metadata": {},
   "outputs": [
    {
     "name": "stdin",
     "output_type": "stream",
     "text": [
      "Enter the name of a school or type 'quit':  Boston\n"
     ]
    },
    {
     "name": "stdout",
     "output_type": "stream",
     "text": [
      "\n",
      "Boston College                          Rank: 32\n",
      "www.bc.edu                              Chestnut Hill,MA\n",
      "Enrollment:   9309                      6175528000\n",
      "President:William P. Leahy, S.J.\n",
      "Reputation Scores   Engineering:N/A  Businesss:3.6\n",
      "\n",
      "\n",
      "Boston University                       Rank: 37\n",
      "www.bu.edu                              Boston,MA\n",
      "Enrollment:  17944                      6173532000\n",
      "President:Robert  A. Brown\n",
      "Reputation Scores   Engineering:3.1 Businesss:3.4\n",
      "\n",
      "\n",
      "University of Massachusetts--Boston     Rank: 202\n",
      "www.umb.edu                             Boston,MA\n",
      "Enrollment:  12847                      6172875000\n",
      "President:Katherine Newman\n",
      "Reputation Scores   Engineering:N/A  Businesss:2.6\n",
      "\n"
     ]
    },
    {
     "name": "stdin",
     "output_type": "stream",
     "text": [
      "Enter the name of a school or type 'quit':  quit\n"
     ]
    }
   ],
   "source": [
    "connection = sqlite3.connect('lab4.db')\n",
    "\n",
    "name = input(\"Enter the name of a school or type 'quit': \")\n",
    "\n",
    "while name!= \"quit\":\n",
    "    x=0\n",
    "    query= '''\n",
    "    SELECT usnews.displayName, usnews.overallRank,usnews.enrollment, usnews.engineeringRepScore,usnews.businessRepScore, ipeds_2018.CITY, ipeds_2018.STABBR, ipeds_2018.CHFNM,ipeds_2018.CHFTITLE, ipeds_2018.GENTELE, ipeds_2018.WEBADDR \n",
    "    from usnews JOIN ipeds_2018 on usnews.xwalkId = ipeds_2018.UNITID \n",
    "    WHERE usnews.displayName like ?;\n",
    "    '''\n",
    "\n",
    "    result = connection.execute(query,(\"%\"+name+\"%\",))\n",
    "\n",
    "    for row in result:\n",
    "        x+=1\n",
    "        print()\n",
    "        print(f'{row[0]:40}Rank: {row[1]}')\n",
    "        print(f'{row[-1].lstrip(\")\"):40}{row[5]},{row[6]}')\n",
    "        print(f'Enrollment:{row[2]:7}                      {row[-2]}')\n",
    "        print(f'President:{row[7].lstrip(\")\")}')\n",
    "        \n",
    "        if row[3]==\"None\" and row[4]== \"None\":\n",
    "            print(f'Reputation Scores   Engineering:N/A   Businesss:N/A')\n",
    "        elif row[3] == \"None\":\n",
    "            print(f'Reputation Scores   Engineering:N/A  Businesss:{row[4]}')\n",
    "        elif row[4]== \"None\":\n",
    "            print(f'Reputation Scores   Engineering:{row[3]}   Businesss:N/A')\n",
    "        else:\n",
    "            print(f'Reputation Scores   Engineering:{row[3]} Businesss:{row[4]}')\n",
    "        print ()\n",
    "        \n",
    "    if x == 0:\n",
    "        print(\"Cannot find school with that name.\")\n",
    "    name = input(\"Enter the name of a school or type 'quit': \")\n",
    "\n"
   ]
  },
  {
   "cell_type": "code",
   "execution_count": null,
   "metadata": {},
   "outputs": [],
   "source": []
  }
 ],
 "metadata": {
  "celltoolbar": "Slideshow",
  "kernelspec": {
   "display_name": "Python 3 (ipykernel)",
   "language": "python",
   "name": "python3"
  },
  "language_info": {
   "codemirror_mode": {
    "name": "ipython",
    "version": 3
   },
   "file_extension": ".py",
   "mimetype": "text/x-python",
   "name": "python",
   "nbconvert_exporter": "python",
   "pygments_lexer": "ipython3",
   "version": "3.10.8"
  }
 },
 "nbformat": 4,
 "nbformat_minor": 4
}
