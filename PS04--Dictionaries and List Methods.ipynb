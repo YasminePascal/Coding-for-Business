{
 "cells": [
  {
   "cell_type": "markdown",
   "metadata": {
    "id": "9lXgKxxLmxEm",
    "tags": []
   },
   "source": [
    "# PS 04: Dictionaries"
   ]
  },
  {
   "cell_type": "code",
   "execution_count": 1,
   "metadata": {},
   "outputs": [],
   "source": [
    "#Print multiple outputs from a cell\n",
    "get_ipython().ast_node_interactivity = 'all'"
   ]
  },
  {
   "cell_type": "markdown",
   "metadata": {
    "id": "OrdCCPgdmxEq"
   },
   "source": [
    "## Problem 1 (4 points)\n",
    "\n",
    "Fill in the blanks below. (Edit each cell to replace the blanks with your code.) These questions refer to the following dictionaries:\n",
    "```\n",
    "d1 = {'SellingPrice': 24.95}\n",
    "d2 = {'Weight': 100.0, 'PricePerPound': 0.78}\n",
    "```"
   ]
  },
  {
   "cell_type": "markdown",
   "metadata": {},
   "source": [
    "a. Using d1 above, complete the IF statement so that it will be True if d1 contains a SellingPrice\n",
    "```\n",
    "        if ____\"SellingPrice\" in d1________________________________________:\n",
    "```         x = True\n",
    "        else:\n",
    "            x= False\n",
    "        x"
   ]
  },
  {
   "cell_type": "markdown",
   "metadata": {},
   "source": [
    "b. Using d1 above, complete the IF statement so that it will be True if d1 does not contain a Quantity\n",
    "```\n",
    "    if \"Quanity\" not in d1:"
   ]
  },
  {
   "cell_type": "markdown",
   "metadata": {},
   "source": [
    "c. Using d2 above, complete the IF statement so that it will be True if d2 contains both a Quantity and a PricePerPound\n",
    "```\n",
    "        if ___\"Quantity\" in d2 and \"PricePerPound\" in d2_________________________________________:\n",
    "```"
   ]
  },
  {
   "cell_type": "markdown",
   "metadata": {},
   "source": [
    "d. Using d2 above, complete the IF statement so that it will be True if the PricePerPound is more than 0.5\n",
    "```\n",
    "        if _____________d2[\"PricePerPound\"] > .5:\n",
    "            x= True\n",
    "        else:\n",
    "            x= False_______________________________\n",
    "```"
   ]
  },
  {
   "cell_type": "markdown",
   "metadata": {
    "id": "-bouDCicmxEt"
   },
   "source": [
    "## Problem 2 (4 points)\n",
    "\n",
    "The questions below refer to the dictionaries in the following code cell."
   ]
  },
  {
   "cell_type": "code",
   "execution_count": 85,
   "metadata": {
    "id": "29wEDxEgmxEu"
   },
   "outputs": [],
   "source": [
    "d1 = {'SellingPrice': 24.95}\n",
    "d2 = {'Weight': 100.0, 'PricePerPound': 0.78}\n",
    "d3 = {'ProductID': 804, 'SuggestedPrice': 3.00, 'CostToProduce': 1.25}\n",
    "d4 = {}"
   ]
  },
  {
   "cell_type": "markdown",
   "metadata": {
    "tags": []
   },
   "source": [
    "(a) Write a statement to assign the SellingPrice from d1 to a variable named _sp_."
   ]
  },
  {
   "cell_type": "code",
   "execution_count": 86,
   "metadata": {},
   "outputs": [
    {
     "data": {
      "text/plain": [
       "24.95"
      ]
     },
     "execution_count": 86,
     "metadata": {},
     "output_type": "execute_result"
    }
   ],
   "source": [
    "# Code for question (a) here\n",
    "\n",
    "sp = d1[\"SellingPrice\"]\n",
    "sp"
   ]
  },
  {
   "cell_type": "markdown",
   "metadata": {},
   "source": [
    "(b) Using d2, write an expression to multiply the Weight by the PricePerPound."
   ]
  },
  {
   "cell_type": "code",
   "execution_count": 87,
   "metadata": {},
   "outputs": [
    {
     "data": {
      "text/plain": [
       "78.0"
      ]
     },
     "execution_count": 87,
     "metadata": {},
     "output_type": "execute_result"
    }
   ],
   "source": [
    "# Code for question (b) here\n",
    "x = d2[\"Weight\"] * d2[\"PricePerPound\"]\n",
    "x"
   ]
  },
  {
   "cell_type": "markdown",
   "metadata": {},
   "source": [
    "(c) Write an expression to calculate the profit earned from selling one unit of the product described by d3."
   ]
  },
  {
   "cell_type": "code",
   "execution_count": 88,
   "metadata": {},
   "outputs": [
    {
     "data": {
      "text/plain": [
       "1.75"
      ]
     },
     "execution_count": 88,
     "metadata": {},
     "output_type": "execute_result"
    }
   ],
   "source": [
    "# Code for question (c) here\n",
    "profit = d3[\"SuggestedPrice\"] - d3['CostToProduce']\n",
    "profit"
   ]
  },
  {
   "cell_type": "markdown",
   "metadata": {},
   "source": [
    "(d) Write a statement to add the key 'EmployeeID' to d4 with the value _607_."
   ]
  },
  {
   "cell_type": "code",
   "execution_count": 89,
   "metadata": {},
   "outputs": [
    {
     "data": {
      "text/plain": [
       "{'EmployeeID': 607}"
      ]
     },
     "execution_count": 89,
     "metadata": {},
     "output_type": "execute_result"
    }
   ],
   "source": [
    "# Code for question (d) here\n",
    "d4[\"EmployeeID\"]= 607\n",
    "d4"
   ]
  },
  {
   "cell_type": "markdown",
   "metadata": {
    "id": "ovyY9w8rmxEz"
   },
   "source": [
    "# Lists of dictionaries\n",
    "\n",
    "Because a dictionary can be used to group together related values, it's a nice way to represent data about real-world things, such as students, or products. In that case, just one dictionary isn't all that helpful -- it would be better to have a *list* of dictionaries, so that we can represent more than one thing in one data structure."
   ]
  },
  {
   "cell_type": "markdown",
   "metadata": {
    "id": "FpnWcReamxEz"
   },
   "source": [
    "## Problem 3 (6 points)\n",
    "\n",
    "You have information about students and their performance in your class:  Maria has student ID 460 and scored 80, 74, and 92 on the three exams. Trent has student ID 322 and scored 95, 71, and 83 on the three exams.\n",
    "\n",
    "Make a list of dictionaries where each element is a dictionary representing a single student.  The keys for each dictionary should be 'ID', 'Name', and 'Exam Scores', where the value for the key 'Exam Scores' is a list of the three exam scores.\n",
    "\n",
    "You will need to do this manually:  no need to use a for loop.  One way to do this is to write statements that accomplish the following:\n",
    "* Create an empty list named *student_data*\n",
    "* Add the dictionaries corresponding to each student. \n",
    "\n"
   ]
  },
  {
   "cell_type": "code",
   "execution_count": 94,
   "metadata": {},
   "outputs": [
    {
     "data": {
      "text/plain": [
       "{'Maria': {'ID': 460, 'Name': 'Maria', 'Exam Scores': [80, 74, 92]},\n",
       " 'Trent': {'ID': 322, 'Name': 'Trent', 'Exam Scores': [95, 71, 83]}}"
      ]
     },
     "execution_count": 94,
     "metadata": {},
     "output_type": "execute_result"
    }
   ],
   "source": [
    "# Problem 3 code here\n",
    "student_data = {}\n",
    "student_data[\"Maria\"]= {\"ID\": 460, \"Name\":\"Maria\", \"Exam Scores\":[80,74,92]}\n",
    "student_data[\"Trent\"]= {\"ID\": 322, \"Name\":\"Trent\", \"Exam Scores\":[95,71,83]}\n",
    "student_data"
   ]
  },
  {
   "cell_type": "markdown",
   "metadata": {
    "id": "EtBYTLTdmxE0"
   },
   "source": [
    "## Problem 4 (8 points)\n",
    "\n",
    "Referring to the *student_data* list that you created in Problem 3, write some code to loop through that list and print the ID, name, and average exam score as a reasonably neatly formatted table. Your code should print the table below.  (You do not have to use Python's format mini specification to align columns; just add spaces between them.  You may hardcode the heading and the line that follows it.)\n",
    "```\n",
    "ID       Name      Average Exam Score\n",
    "-----------------------------------\n",
    "460      Maria           82\n",
    "322      Trent           83\n",
    "```\n",
    "\n",
    "You must use a loop, but you do not need to write a function."
   ]
  },
  {
   "cell_type": "code",
   "execution_count": 95,
   "metadata": {},
   "outputs": [
    {
     "name": "stdout",
     "output_type": "stream",
     "text": [
      "ID     Name    Average Exam Score\n",
      "----------------------------------\n",
      "460    Maria     82.0\n",
      "322    Trent     83.0\n"
     ]
    }
   ],
   "source": [
    "# Problem 4 code here\n",
    "print(\"ID     Name    Average Exam Score\")\n",
    "print(\"----------------------------------\")\n",
    "\n",
    "for line in student_data:\n",
    "    print(f'{student_data[line][\"ID\"]}    {student_data[line][\"Name\"]}     {(sum(student_data[line][\"Exam Scores\"])/len(student_data[line][\"Exam Scores\"]))}')\n",
    "    \n",
    "    "
   ]
  },
  {
   "cell_type": "markdown",
   "metadata": {
    "id": "Xr1gC50imxE1"
   },
   "source": [
    "# Inventory System\n",
    "\n",
    "Another use of a list of dictionaries is managing an inventory system.\n",
    "\n",
    "Inventory systems typically have data at several different levels, and so would require many lists of dictionaries, including:\n",
    "* information about products that changes rarely, like the price.\n",
    "* information about products that changes often, like the level of inventory.\n",
    "* information about each sales transaction.\n",
    "\n",
    "We'll work with the list of price information and a list of transaction information in the next problem."
   ]
  },
  {
   "cell_type": "markdown",
   "metadata": {
    "id": "bKzLMbOemxE1",
    "tags": []
   },
   "source": [
    "## Problem 5 (8 points)\n",
    "\n",
    "The cell below contains a list of dictionaries that represents price data about products. The variable is named `MPT`, which stands for `Master Price Table`. This variable contains data about some products that you sell at your store, _Snackito Ergo Nom-Nom_.\n",
    "\n",
    "Beneath the list, write a **function** named _lookup_ that takes one argument, an integer ProductID. Name the argument `product_id`. Using that argument, find the corresponding product in the MPT and return a tuple containing that product's SuggestedPrice and CostToProduce.\n",
    "\n",
    "Hint: You need a `for` loop."
   ]
  },
  {
   "cell_type": "code",
   "execution_count": 96,
   "metadata": {
    "executionInfo": {
     "elapsed": 141,
     "status": "ok",
     "timestamp": 1647801552389,
     "user": {
      "displayName": "Mara Gheorghiu",
      "photoUrl": "https://lh3.googleusercontent.com/a/default-user=s64",
      "userId": "08727496228722508820"
     },
     "user_tz": 240
    },
    "id": "xSRKU1GWmxE2"
   },
   "outputs": [],
   "source": [
    "# Master Price Table\n",
    "MPT = [\n",
    "    {'ProductID': 804, 'SuggestedPrice': 3.00, 'CostToProduce': 1.25},\n",
    "    {'ProductID': 79, 'SuggestedPrice': 14.99, 'CostToProduce': 7.00},\n",
    "    {'ProductID': 1275, 'SuggestedPrice': 7.50, 'CostToProduce': 2.50}\n",
    "]\n",
    "\n",
    "def lookup(product_id):\n",
    "    for line in MPT:\n",
    "        if product_id == line[\"ProductID\"]:\n",
    "            x = line[\"SuggestedPrice\"],line[\"CostToProduce\"]\n",
    "            return x\n",
    "# Problem 5 code here\n"
   ]
  },
  {
   "cell_type": "code",
   "execution_count": 97,
   "metadata": {
    "colab": {
     "base_uri": "https://localhost:8080/"
    },
    "executionInfo": {
     "elapsed": 5,
     "status": "ok",
     "timestamp": 1647801675471,
     "user": {
      "displayName": "Mara Gheorghiu",
      "photoUrl": "https://lh3.googleusercontent.com/a/default-user=s64",
      "userId": "08727496228722508820"
     },
     "user_tz": 240
    },
    "id": "p2sH7Op6mxE2",
    "outputId": "32b71e70-863d-4cc3-cf72-4002bda2ae1a"
   },
   "outputs": [
    {
     "data": {
      "text/plain": [
       "(14.99, 7.0)"
      ]
     },
     "execution_count": 97,
     "metadata": {},
     "output_type": "execute_result"
    },
    {
     "data": {
      "text/plain": [
       "(3.0, 1.25)"
      ]
     },
     "execution_count": 97,
     "metadata": {},
     "output_type": "execute_result"
    }
   ],
   "source": [
    "# Run this cell AFTER you have written your function *lookup*\n",
    "# Code to test our lookup function\n",
    "lookup(79)  #should return (14.99, 7.0)\n",
    "lookup(804)  #should return (3.0, 1.25)"
   ]
  },
  {
   "cell_type": "markdown",
   "metadata": {},
   "source": [
    "## Problem 6 (8 points)\n",
    "Given a list of lowercase strings named *mystrings*, create and return a dictionary whose keys are the unique first characters of the strings and whose values are lists of words beginning with those characters, in the same order that they appear in the list of strings.  Ignore case:  you can assume that all words are lowercase.  A sample list of strings is given below, but your code should work on any list of strings of any length.  You do not have to write a function."
   ]
  },
  {
   "cell_type": "code",
   "execution_count": 98,
   "metadata": {},
   "outputs": [],
   "source": [
    "mystrings = [\"banana\", \"xylophone\", \"duck\", \"carriage\", \"bandana\", \"diamond\", \"cardinal\"]\n",
    "\n",
    "# desired outcome:\n",
    "# {'b': ['banana', 'bandana'],\n",
    "# 'x': ['xylophone'],\n",
    "# 'd': ['duck', 'diamond'],\n",
    "# 'c': ['carriage', 'cardinal']}"
   ]
  },
  {
   "cell_type": "code",
   "execution_count": 99,
   "metadata": {},
   "outputs": [
    {
     "data": {
      "text/plain": [
       "{'b': ['banana', 'bandana'],\n",
       " 'x': ['xylophone'],\n",
       " 'd': ['duck', 'diamond'],\n",
       " 'c': ['carriage', 'cardinal']}"
      ]
     },
     "execution_count": 99,
     "metadata": {},
     "output_type": "execute_result"
    }
   ],
   "source": [
    "d = {}\n",
    "\n",
    "for word in mystrings:\n",
    "    first = word[0]\n",
    "    if first not in d:\n",
    "        d[first] = [word]\n",
    "    else:\n",
    "         d[first]+= [word]\n",
    "    \n",
    "d"
   ]
  },
  {
   "cell_type": "markdown",
   "metadata": {},
   "source": [
    "## Problem 7 (6 points)\n",
    "You're given a dictionary below with different gas stations and the price of different types of gas at each."
   ]
  },
  {
   "cell_type": "code",
   "execution_count": 100,
   "metadata": {},
   "outputs": [],
   "source": [
    "d = {\n",
    "    \"Speedway\": {\"unleaded\": 3.50, \"mid-tier\": 3.92, \"premium\": 4.19},\n",
    "    \"Mobil\": {\"unleaded\": 3.52, \"mid-tier\": 3.90, \"premium\": 4.20},\n",
    "    \"Costco\": {\"unleaded\": 3.45, \"premium\": 4.10}\n",
    "    }"
   ]
  },
  {
   "cell_type": "markdown",
   "metadata": {},
   "source": [
    "a.  Write an expression to return the price of Mobil's mid-tier gas."
   ]
  },
  {
   "cell_type": "code",
   "execution_count": 101,
   "metadata": {},
   "outputs": [
    {
     "data": {
      "text/plain": [
       "3.9"
      ]
     },
     "execution_count": 101,
     "metadata": {},
     "output_type": "execute_result"
    }
   ],
   "source": [
    "d[\"Mobil\"][\"mid-tier\"]"
   ]
  },
  {
   "cell_type": "markdown",
   "metadata": {},
   "source": [
    "b. Write a loop to print each station name and price of its premium gas."
   ]
  },
  {
   "cell_type": "code",
   "execution_count": 102,
   "metadata": {},
   "outputs": [
    {
     "name": "stdout",
     "output_type": "stream",
     "text": [
      "Name:Speedway Premium Gas:4.19\n",
      "Name:Mobil Premium Gas:4.2\n",
      "Name:Costco Premium Gas:4.1\n"
     ]
    }
   ],
   "source": [
    "for key in d.keys():\n",
    "    print(f'Name:{key} Premium Gas:{d[key][\"premium\"]}')"
   ]
  },
  {
   "cell_type": "markdown",
   "metadata": {},
   "source": [
    "## Problem 8 (6 points)\n",
    "Write a function called *shift* which takes a list as an argument.  It should create a copy of the list.  With the copy it should shift all the elements in the list to the left by one position and place the last element at the back of the list.  It should then return the new list.  In your function definition the argument should be named *arg_list*.\n",
    "\n",
    "Write your function in the code cell below.  Once it's written, then you can run the code in the cell below that to test your function.\n",
    "\n",
    "`shift([1, 2, 3, 4])` should return `[2, 3, 4, 1]`."
   ]
  },
  {
   "cell_type": "code",
   "execution_count": 103,
   "metadata": {},
   "outputs": [],
   "source": [
    "# put your function definition for #8 here\n",
    "def shift(arg_list):\n",
    "    arg_list2 = arg_list[:]\n",
    "    first = arg_list[0]\n",
    "    arg_list2.remove(first)\n",
    "    arg_list2.append(first)\n",
    "    return arg_list2"
   ]
  },
  {
   "cell_type": "code",
   "execution_count": 104,
   "metadata": {},
   "outputs": [
    {
     "data": {
      "text/plain": [
       "['Boston', 27, -43, 'ice cream']"
      ]
     },
     "execution_count": 104,
     "metadata": {},
     "output_type": "execute_result"
    }
   ],
   "source": [
    "# Once you have defined your function you can run these cells to test it.\n",
    "alist = [\"ice cream\", \"Boston\", 27, -43]\n",
    "new_list = shift(alist)  \n",
    "new_list  # should return [\"Boston\", 27, -43, \"ice cream\"]"
   ]
  },
  {
   "cell_type": "code",
   "execution_count": null,
   "metadata": {},
   "outputs": [],
   "source": []
  }
 ],
 "metadata": {
  "colab": {
   "name": "PS04-Solutions.ipynb",
   "provenance": []
  },
  "kernelspec": {
   "display_name": "Python 3 (ipykernel)",
   "language": "python",
   "name": "python3"
  },
  "language_info": {
   "codemirror_mode": {
    "name": "ipython",
    "version": 3
   },
   "file_extension": ".py",
   "mimetype": "text/x-python",
   "name": "python",
   "nbconvert_exporter": "python",
   "pygments_lexer": "ipython3",
   "version": "3.10.8"
  }
 },
 "nbformat": 4,
 "nbformat_minor": 4
}
