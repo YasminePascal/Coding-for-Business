{
 "cells": [
  {
   "cell_type": "markdown",
   "metadata": {
    "id": "AK61WHKhwYSm",
    "tags": []
   },
   "source": [
    "# PS 05: Regular Expressions (\"regex\")"
   ]
  },
  {
   "cell_type": "markdown",
   "metadata": {
    "id": "19R86KIJwYSq"
   },
   "source": [
    "## Problem 1 (2 points)\n",
    "\n"
   ]
  },
  {
   "cell_type": "markdown",
   "metadata": {
    "id": "bYS6AaYxwYSr"
   },
   "source": [
    "What Python data type do you use to represent a regular expression?"
   ]
  },
  {
   "cell_type": "markdown",
   "metadata": {
    "id": "4peBruVSwYSr"
   },
   "source": [
    "Regular expression data type: "
   ]
  },
  {
   "cell_type": "markdown",
   "metadata": {
    "id": "9psyRh8twYSr"
   },
   "source": [
    "## Problem 2 (4 points)\n",
    "\n",
    "Which of the following strings would be matched by this regular expression? List their numbers in the cell below, separated by commas if there are multiple.\n",
    "\n",
    "`'s?ng'`\n",
    "\n",
    "1. spring\n",
    "1. singer\n",
    "1. song\n",
    "1. sung\n",
    "1. sting\n",
    "1. sng"
   ]
  },
  {
   "cell_type": "markdown",
   "metadata": {
    "id": "rraiXn_-wYSs"
   },
   "source": [
    "Strings that match: 6"
   ]
  },
  {
   "cell_type": "markdown",
   "metadata": {
    "id": "rKvs3Ej5wYSs"
   },
   "source": [
    "## Problem 3 (4 points)\n",
    "\n",
    "If we change the regex from Problem 2 slightly, now which strings match? List their numbers in the cell below, separated by commas if there are multiple.\n",
    "\n",
    "`'s.*ng'`\n",
    "\n",
    "1. spring\n",
    "1. singer\n",
    "1. song\n",
    "1. sung\n",
    "1. sting\n",
    "1. sng"
   ]
  },
  {
   "cell_type": "markdown",
   "metadata": {
    "id": "zqh3ZHzXwYSt"
   },
   "source": [
    "Strings that match: 1,3,4,5,6 \n",
    "#2 will match but only partially"
   ]
  },
  {
   "cell_type": "markdown",
   "metadata": {
    "id": "v8D1mdfEwYSt"
   },
   "source": [
    "## Problem 4 (6 points)\n",
    "\n",
    "List every string that would be matched by this regular expression:\n",
    "\n",
    "`'[pb]ar[kt]?'`"
   ]
  },
  {
   "cell_type": "markdown",
   "metadata": {
    "id": "hA_N4d0HwYSu"
   },
   "source": [
    "The regex matches the following strings: park,bark,part,bart, par, bar"
   ]
  },
  {
   "cell_type": "markdown",
   "metadata": {
    "id": "eiqYEwtNwYSu"
   },
   "source": [
    "## Problem 5 (4 points)\n",
    "\n",
    "Write a regular expression that can match the words `mink`, `mint`, `mine`, `min`, `mind` and no other words. For full points, your expression should be short and economical. For example, the regular expression `'mink|mint|mine|min|mind'` works, but it is LONG, and it does not use any of the special regex symbols. See how short you can make yours."
   ]
  },
  {
   "cell_type": "code",
   "execution_count": 10,
   "metadata": {},
   "outputs": [],
   "source": [
    "import re"
   ]
  },
  {
   "cell_type": "code",
   "execution_count": null,
   "metadata": {
    "id": "-G-pPcQEwYSu"
   },
   "outputs": [],
   "source": [
    "# Your answer to #5 goes here\n",
    "regex = \"min[kted]?\""
   ]
  },
  {
   "cell_type": "markdown",
   "metadata": {
    "id": "eiqYEwtNwYSu"
   },
   "source": [
    "## Problem 6 (4 points)\n",
    "\n",
    "Write a regular expression that matches a 24-bit hexadecimal color code. These codes start with the symbol `#` and have exactly six characters, each of which can be either a digit or the character A, B, C, D, E, or F.  For example,`#FFA07A` is Light Salmon. (See [this link](https://htmlcolorcodes.com/color-names/) for more names/code combinations.)"
   ]
  },
  {
   "cell_type": "code",
   "execution_count": null,
   "metadata": {},
   "outputs": [],
   "source": [
    "# Your answer to #6 goes here\n",
    "regex= \"#[A-F\\d][A-F\\d][A-F\\d][A-F\\d][A-F\\d][A-F\\d]\""
   ]
  },
  {
   "cell_type": "markdown",
   "metadata": {
    "id": "-s5FPy0FwYSv"
   },
   "source": [
    "## Problem 7 (10 points)\n",
    "\n",
    "Suppose you operate an online service where people can find someone to help with odd jobs around the house. You want people to message each other through your platform so you can protect their privacy. You decide to scan everyone's messages for phone numbers, because you want to discourage your users from publishing personal data. If you see a message that appears to contain a phone number, you want to flag that message as a potential problem.\n",
    "\n",
    "In the cell below, you will find  a list of strings representing some messages that were sent on your platform. Write some code to do the following:\n",
    "* Examine every string in the list to see if it contains a phone number.\n",
    "* Print the string (print them all, even the ones that don't contain a phone number), HOWEVER, if a string contains a phone number, print `!!! ` at the start of the string. (That's 3 exclamation points followed by 1 space.)\n",
    "\n",
    "Your printed output might look like this:\n",
    "```\n",
    "no phone numbers in this string\n",
    "none in this one, either\n",
    "!!! Call me at 617.555.1212, OK?\n",
    "she sells seashells by the seashore\n",
    "!!! My phone is (444) 333-2222; call before 11pm\n",
    "```\n",
    "\n",
    "**Important Notes**\n",
    "* You may assume that every string in the list either contains 0 phone numbers or 1 phone number.\n",
    "* You may assume that everyone writes phone numbers in one of these formats:\n",
    "  * `(ddd) ddd-dddd` (one space after the closing parenthesis)\n",
    "  * `ddd.ddd.dddd`\n",
    "* For a phone number to be legal, there are two digits that are not allowed to be a 0. In the patterns `(xdd) xdd-dddd` and `xdd.xdd.dddd`, the `x` digits cannot be 0. If you encounter something that looks like a phone number but it has a 0 in either of those positions, you must conclude that it is **not** a phone number, so you won't change it in any way.\n",
    "* You do not have to write a function.\n",
    "* An import statement for the `re` module has been included for you.\n",
    "* Keep in mind that if you have multiple patterns that you can't seem combine into a single regex, the | operator can sometimes help."
   ]
  },
  {
   "cell_type": "code",
   "execution_count": 63,
   "metadata": {},
   "outputs": [
    {
     "name": "stdout",
     "output_type": "stream",
     "text": [
      "I need someone to help with yard work.\n",
      "Call me at (978)555.1212 any time before 10pm\n",
      "Times I'm available: 830,930,1245\n",
      "How much do you pay?\n",
      "Contact me on (914) 023-4455\n",
      "!!!Typing is getting old. Call me at 508.333.7890.\n",
      "You can reach reach me at (012) 345-6789\n",
      "!!!My number is (617) 483-3844; call before 11pm.\n"
     ]
    }
   ],
   "source": [
    "import re\n",
    "messages = [\n",
    "    'I need someone to help with yard work.',\n",
    "    'Call me at (978)555.1212 any time before 10pm',\n",
    "    \"Times I'm available: 830,930,1245\",\n",
    "    'How much do you pay?',\n",
    "    'Contact me on (914) 023-4455',\n",
    "    \"Typing is getting old. Call me at 508.333.7890.\",\n",
    "    'You can reach reach me at (012) 345-6789',\n",
    "    'My number is (617) 483-3844; call before 11pm.'\n",
    "]\n",
    "\n",
    "regex = \"[1-9]\\d\\d\\.[1-9]\\d\\d\\.\\d\\d\\d\\d|\\([1-9]\\d\\d\\) [1-9]\\d\\d\\-\\d\\d\\d\\d\"\n",
    "regex_c = re.compile(regex)\n",
    "\n",
    "for line in messages:\n",
    "    if regex_c.findall(line):\n",
    "            print(f'!!!{line}')\n",
    "    else:\n",
    "        print(line)\n",
    "            \n",
    "# Your answer to #7 goes here"
   ]
  },
  {
   "cell_type": "markdown",
   "metadata": {
    "id": "4lDxEbFpwYSx"
   },
   "source": [
    "## Problem 8 (16 points)\n",
    "\n",
    "Your convenience store, _Snackito Ergo Nom-Nom_, has done so well that you have been able to acquire another business, _House of Munchies_. They have a lot of goods in inventory, and you want to update your inventory to reflect the new items. Unfortunately, they didn't spend much on IT, so they don't have inventory data in a clean format. What they can give you is the digital receipt from their most recent delivery.\n",
    "\n",
    "The digital receipt is in a text file named _receipt.txt_. Download it from Canvas. In the cell below, write a function named _munchies_ to do the following:\n",
    "* Open the receipt file and loop through it line by line\n",
    "* Use regex to find any lines that contain product data\n",
    "* Close the receipt file when you have looped through all of it\n",
    "* Return a _list of dictionaries_ representing the products you found in the receipt file. Each dictionary should have these keys with an appropriate value:\n",
    "  * SKU (value should be an integer)\n",
    "  * productName (value should be a string)\n",
    "  * quantity (value should be an integer)\n",
    "  * wholesalePrice (value should be a float)\n",
    "\n",
    "Your function does not need any arguments. An import statement for the `re` module has been included for you.  You do NOT need to consider items that were not delivered.\n",
    "\n",
    "Reminder: your function must **return** a list of dictionaries. It should not print anything."
   ]
  },
  {
   "cell_type": "code",
   "execution_count": 62,
   "metadata": {},
   "outputs": [
    {
     "data": {
      "text/plain": [
       "{'Diet Coke': {'SKU': '60609',\n",
       "  'productName': 'Diet Coke',\n",
       "  'quantity': '144',\n",
       "  'wholesalePrice': '$0.75'},\n",
       " 'Snack Size Fritos': {'SKU': '22346',\n",
       "  'productName': 'Snack Size Fritos',\n",
       "  'quantity': '200',\n",
       "  'wholesalePrice': '$.44'},\n",
       " 'Chocolate Milk': {'SKU': '48779',\n",
       "  'productName': 'Chocolate Milk',\n",
       "  'quantity': '50',\n",
       "  'wholesalePrice': '$1.09'},\n",
       " 'Peanut Butter Cups': {'SKU': '12367',\n",
       "  'productName': 'Peanut Butter Cups',\n",
       "  'quantity': '2175',\n",
       "  'wholesalePrice': '$4.25'},\n",
       " 'Pepsi': {'SKU': '33284',\n",
       "  'productName': 'Pepsi',\n",
       "  'quantity': '64',\n",
       "  'wholesalePrice': '$.75'},\n",
       " 'Antacid Tablets': {'SKU': '55455',\n",
       "  'productName': 'Antacid Tablets',\n",
       "  'quantity': '5',\n",
       "  'wholesalePrice': '$11.75'}}"
      ]
     },
     "execution_count": 62,
     "metadata": {},
     "output_type": "execute_result"
    }
   ],
   "source": [
    "# Your answer to #8 goes here\n",
    "f = open(\"receipt.txt\", \"r\")\n",
    "regex = \"\\* \\d+ .+\"\n",
    "regex_c= re.compile(regex)\n",
    "list1=[]\n",
    "for line in f:\n",
    "    if regex_c.findall(line):\n",
    "        list1+=[line]\n",
    "f.close()        \n",
    "munchies = {}\n",
    "regex_sku = re.compile(\"\\d\\d\\d\\d\\d\")\n",
    "regex_product = re.compile(\"([A-Z][a-z]+|[A-Z][a-z]+ ?[A-Z]?[a-z]* ?[A-Z]?[a-z]*) [@a]t?\")\n",
    "regex_quant= re.compile(\"\\* (\\d+)\")\n",
    "regex_price = re.compile(\"\\$\\d*\\.\\d\\d\")\n",
    "\n",
    "for line in list1:\n",
    "    sku= regex_sku.findall(line)\n",
    "    product = regex_product.findall(line)\n",
    "    quantity = regex_quant.findall(line)\n",
    "    price = regex_price.findall(line)\n",
    "    munchies[product[0]]={\"SKU\":sku[0], \"productName\":product[0], \"quantity\": quantity[0], \"wholesalePrice\":price[0]}\n",
    "    \n",
    "munchies"
   ]
  },
  {
   "cell_type": "code",
   "execution_count": null,
   "metadata": {},
   "outputs": [],
   "source": []
  }
 ],
 "metadata": {
  "colab": {
   "name": "PS05-SOLUTIONS.ipynb",
   "provenance": []
  },
  "kernelspec": {
   "display_name": "Python 3 (ipykernel)",
   "language": "python",
   "name": "python3"
  },
  "language_info": {
   "codemirror_mode": {
    "name": "ipython",
    "version": 3
   },
   "file_extension": ".py",
   "mimetype": "text/x-python",
   "name": "python",
   "nbconvert_exporter": "python",
   "pygments_lexer": "ipython3",
   "version": "3.10.8"
  }
 },
 "nbformat": 4,
 "nbformat_minor": 4
}
