{
 "cells": [
  {
   "cell_type": "markdown",
   "metadata": {
    "tags": []
   },
   "source": [
    "# PS 03a: Loops"
   ]
  },
  {
   "cell_type": "markdown",
   "metadata": {},
   "source": [
    "## Problem 1 (2 points)\n",
    "\n",
    "The cell below contains a list. Beneath the list, write code to print every element of the list on its own line.  Your list needs to work with a different list of names, or a list of different length.\n",
    "\n",
    "Use a FOR loop."
   ]
  },
  {
   "cell_type": "code",
   "execution_count": 1,
   "metadata": {},
   "outputs": [],
   "source": [
    "#Run this cell to print multiple outputs from a cell\n",
    "get_ipython().ast_node_interactivity = 'all'"
   ]
  },
  {
   "cell_type": "code",
   "execution_count": 2,
   "metadata": {},
   "outputs": [
    {
     "name": "stdout",
     "output_type": "stream",
     "text": [
      "Terry\n",
      "Xuan\n",
      "Pablo\n",
      "Tamika\n",
      "Lucien\n"
     ]
    }
   ],
   "source": [
    "the_list = ['Terry', 'Xuan', 'Pablo', 'Tamika', 'Lucien']\n",
    "for names in the_list:\n",
    "    print(names)"
   ]
  },
  {
   "cell_type": "markdown",
   "metadata": {
    "tags": []
   },
   "source": [
    "## Problem 2 (4 points)\n",
    "\n",
    "The cell below contains a list. Beneath the list, write code to:\n",
    "* Calculate the average of the list elements\n",
    "* Print the elements from the list that are greater than the average. Print each on its own line.\n",
    "\n",
    "Your code should work with a different list of numbers, a different length list, etc.  When printing the elements, use a `for` loop."
   ]
  },
  {
   "cell_type": "code",
   "execution_count": 5,
   "metadata": {},
   "outputs": [
    {
     "name": "stdout",
     "output_type": "stream",
     "text": [
      "59\n",
      "92\n",
      "53\n",
      "72\n"
     ]
    }
   ],
   "source": [
    "data = [26, 5, 59, 28, 25, 36, 92, 53, 72, 43]\n",
    "avg = sum(data)/len(data)\n",
    "for num in data:\n",
    "    if num> avg:\n",
    "        print(num)\n"
   ]
  },
  {
   "cell_type": "markdown",
   "metadata": {},
   "source": [
    "## Problem 3 (6 points)\n",
    "\n",
    "A `while` loop is useful when you don't know how many times you will repeat the loop. In the cell below, write code to:\n",
    "1. Generate a random integer between 1 and 10 using the randint function.\n",
    "1. Prompt the user to guess a number.\n",
    "1. If the user guesses the randomly generated number, print \"You got it!\" and don't prompt any more. Otherwise, repeat steps 2 & 3.\n",
    "\n",
    "Use a `while` loop.\n",
    "\n",
    "To use `randint` to randomly generate a number, call it with two arguments, e.g., `randint(1, 5)`. This will generate a whole number between 1 and 5, inclusive. If you want a number between 0 and 20, do `randint(0, 20)`."
   ]
  },
  {
   "cell_type": "code",
   "execution_count": 10,
   "metadata": {},
   "outputs": [
    {
     "name": "stdin",
     "output_type": "stream",
     "text": [
      "Enter a number 12\n",
      "Enter a number 1\n",
      "Enter a number 4\n",
      "Enter a number 7\n",
      "Enter a number 5\n",
      "Enter a number 4\n",
      "Enter a number 8\n",
      "Enter a number 7\n",
      "Enter a number 4\n",
      "Enter a number 3\n"
     ]
    },
    {
     "name": "stdout",
     "output_type": "stream",
     "text": [
      "You got it!\n"
     ]
    }
   ],
   "source": [
    "from random import randint   # Keep this line as it is\n",
    "import random\n",
    "\n",
    "integer = random.randint(1,10)\n",
    "prompt = int(input(\"Enter a number\"))\n",
    "\n",
    "while prompt != integer:\n",
    "    prompt = int(input(\"Enter a number\"))\n",
    "    \n",
    "print(\"You got it!\")\n",
    "# Your Problem 3 code goes here"
   ]
  },
  {
   "cell_type": "markdown",
   "metadata": {},
   "source": [
    "## Problem 4 (4 points)\n",
    "\n",
    "Write code to count how many numbers are evenly divisible by 5 in a list of numbers called *num_list*.  A value of *num_list* is provided below, but your code should work for any list that contains only numbers."
   ]
  },
  {
   "cell_type": "code",
   "execution_count": 11,
   "metadata": {},
   "outputs": [
    {
     "data": {
      "text/plain": [
       "3"
      ]
     },
     "execution_count": 11,
     "metadata": {},
     "output_type": "execute_result"
    }
   ],
   "source": [
    "num_list = [17, 13, 20, 42, 89, 90, 25] \n",
    "# Your Problem 3 code goes here\n",
    "count = 0\n",
    "for num in num_list:\n",
    "    if num % 5 == 0:\n",
    "        count = count+1\n",
    "count "
   ]
  },
  {
   "cell_type": "markdown",
   "metadata": {
    "tags": []
   },
   "source": [
    "## Problem 5 (10 points)\n",
    "\n",
    "Have you noticed that many online accounts put a limit on how many times you can try to login? In the cell below, write some code that prompts the user to enter their password. If what they enter doesn't match the `real_password` variable, prompt again, but only give the user 3 tries.\n",
    "\n",
    "If the user gets the password right, print \"Successful login -- welcome!\" But if the user gets it wrong 3 times, print \"Too many login attempts. Goodbye.\"\n",
    "\n",
    "Write your code using a `while` loop."
   ]
  },
  {
   "cell_type": "code",
   "execution_count": 4,
   "metadata": {
    "tags": []
   },
   "outputs": [
    {
     "name": "stdin",
     "output_type": "stream",
     "text": [
      "Enter your password secret\n"
     ]
    },
    {
     "name": "stdout",
     "output_type": "stream",
     "text": [
      "Successful login -- welcome!\n"
     ]
    }
   ],
   "source": [
    "real_password = 'secret'\n",
    "\n",
    "# Problem 5 code here\n",
    "\n",
    "prompt= input(\"Enter your password\")\n",
    "tries = 0\n",
    "\n",
    "while prompt!= real_password:\n",
    "    prompt= input(\"Enter your password\")\n",
    "    tries = tries + 1\n",
    "    if tries == 2:\n",
    "        print(\"Too many login attempts.Goodbye.\")\n",
    "        break\n",
    "    \n",
    "        \n",
    "while prompt == real_password:\n",
    "    print(\"Successful login -- welcome!\")\n",
    "    break\n",
    "    \n",
    "    \n"
   ]
  },
  {
   "cell_type": "markdown",
   "metadata": {
    "tags": []
   },
   "source": [
    "## Problem 6 (4 points)\n",
    "\n",
    "You have a list of prices of items you sell at your surf shop.  You're having an end of season sale: any item with a price less than 20 dollars should be 50 percent off.  The price of any item 20 dollars or over should be unchanged. Add code to the cell below to change the ***existing list, prices,*** to reflect the new price, without creating any other lists in your code.  Don't worry about rounding to the nearest cent.  Your code should work if more items were added to the list of prices, or if the existing prices were changed."
   ]
  },
  {
   "cell_type": "code",
   "execution_count": 33,
   "metadata": {},
   "outputs": [
    {
     "data": {
      "text/plain": [
       "[0.6, 20.99, 25.99, 4.25, 8.745, 89.99, 75.0]"
      ]
     },
     "execution_count": 33,
     "metadata": {},
     "output_type": "execute_result"
    }
   ],
   "source": [
    "prices = [1.20, 20.99, 25.99, 8.50, 17.49, 89.99, 75.00]\n",
    "\n",
    "for price in range(len(prices)):\n",
    "    if prices[price] < 20:\n",
    "        prices[price] = prices[price] * .5\n",
    "\n",
    "prices\n",
    "# Problem 6 code here\n"
   ]
  },
  {
   "cell_type": "code",
   "execution_count": null,
   "metadata": {},
   "outputs": [],
   "source": []
  }
 ],
 "metadata": {
  "kernelspec": {
   "display_name": "Python 3 (ipykernel)",
   "language": "python",
   "name": "python3"
  },
  "language_info": {
   "codemirror_mode": {
    "name": "ipython",
    "version": 3
   },
   "file_extension": ".py",
   "mimetype": "text/x-python",
   "name": "python",
   "nbconvert_exporter": "python",
   "pygments_lexer": "ipython3",
   "version": "3.10.8"
  }
 },
 "nbformat": 4,
 "nbformat_minor": 4
}
